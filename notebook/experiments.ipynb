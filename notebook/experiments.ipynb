{
 "cells": [
  {
   "cell_type": "code",
   "execution_count": 1,
   "id": "8c6cb0b5",
   "metadata": {},
   "outputs": [
    {
     "name": "stdout",
     "output_type": "stream",
     "text": [
      "Hi Start\n"
     ]
    }
   ],
   "source": [
    "print('Hi Start')"
   ]
  },
  {
   "cell_type": "code",
   "execution_count": 2,
   "id": "ccc00895",
   "metadata": {},
   "outputs": [],
   "source": [
    "from langchain_groq import ChatGroq"
   ]
  },
  {
   "cell_type": "code",
   "execution_count": 3,
   "id": "e010fb21",
   "metadata": {},
   "outputs": [],
   "source": [
    "from dotenv import load_dotenv"
   ]
  },
  {
   "cell_type": "code",
   "execution_count": 4,
   "id": "34e0438e",
   "metadata": {},
   "outputs": [
    {
     "data": {
      "text/plain": [
       "True"
      ]
     },
     "execution_count": 4,
     "metadata": {},
     "output_type": "execute_result"
    }
   ],
   "source": [
    "load_dotenv()"
   ]
  },
  {
   "cell_type": "code",
   "execution_count": 5,
   "id": "82a9c8b7",
   "metadata": {},
   "outputs": [],
   "source": [
    "llm=ChatGroq(model=\"deepseek-r1-distill-llama-70b\")"
   ]
  },
  {
   "cell_type": "code",
   "execution_count": 7,
   "id": "da9c60c0",
   "metadata": {},
   "outputs": [
    {
     "data": {
      "text/plain": [
       "\"<think>\\nOkay, so I'm trying to figure out what IAS stands for in India. I've heard the acronym before, probably in the context of government or administration. Let me think... IAS could be related to the civil services since I know that's a big part of the government structure in India.\\n\\nI remember hearing about civil service exams, maybe the UPSC? So, IAS might be one of the services under that. I think UPSC stands for Union Public Service Commission. They handle the exams for various civil services. So, IAS is probably one of those services.\\n\\nWait, IAS... maybe it's the Indian Administrative Service? That sounds familiar. Yeah, I think that's right. So, the Indian Administrative Service is one of the prestigious civil services in India. These officers handle administrative roles, right? Like district magistrates or secretaries in the government.\\n\\nI also recall that there are other services like IPS (Indian Police Service) and IFS (Indian Foreign Service). So, IAS is part of that group. They all go through the same UPSC exam but are selected into different services based on their ranks and preferences.\\n\\nThe role of an IAS officer must be pretty important. They probably deal with policy implementation, district administration, and public services. They might also work at the state and central levels. I think they have a significant impact on public policy and governance.\\n\\nI'm not entirely sure about the hierarchy, but I believe IAS officers start at a certain rank and move up as they gain experience. They might handle tasks like maintaining law and order, overseeing development projects, and managing government programs at various levels.\\n\\nI've also heard that the IAS exam is extremely competitive. It has a tough selection process with prelims, mains, and interviews. The syllabus is vast, covering a wide range of topics from general studies to optional subjects. The preparation must be rigorous, and only a small percentage of candidates make it through each year.\\n\\nIn terms of responsibilities, IAS officers might be involved in formulating policies, supervising public services, and ensuring that government programs are effectively implemented. They could also be involved in crisis management, like handling natural disasters or public emergencies.\\n\\nI wonder about the training process. I think after selection, IAS officers go through training at places like the Lal Bahadur Shastri National Academy of Administration. There, they learn about administration, law, and public policy. They might also have field training to understand grass-root level issues.\\n\\nThe career progression for IAS officers probably involves moving from district-level positions to higher roles in the state and central governments. They could become Secretaries in various ministries or hold other high-ranking positions. Retirement benefits and post-retirement roles might also be significant, as many IAS officers go on to become governors or hold other esteemed positions.\\n\\nI'm also thinking about the impact IAS officers have on society. They are responsible for implementing policies that affect millions of people. Their decisions can influence development, infrastructure, education, healthcare, and more. It's a position of great responsibility and influence.\\n\\nI'm curious about how one becomes an IAS officer. It seems like you have to take the UPSC exam, which is a common exam for all the civil services. The exam has three stages: preliminary, mains, and an interview. The syllabus is broad, so candidates need a strong foundation in various subjects.\\n\\nI also recall that IAS officers have certain powers, like being able to make decisions on behalf of the government. They might have authority over various departments and can take administrative actions when necessary. Their role is crucial in maintaining the administrative framework of the country.\\n\\nI think I've covered the basics, but I might be missing some details. For example, the exact roles and responsibilities might vary depending on the specific post an IAS officer holds. Also, the challenges they face, like dealing with bureaucracy, political pressures, and public expectations, must be significant.\\n\\nOverall, IAS stands for the Indian Administrative Service, a prestigious civil service in India responsible for administration and policy implementation. It's a highly competitive and respected position that plays a vital role in the governance of the country.\\n</think>\\n\\nThe Indian Administrative Service (IAS) is a prestigious civil service in India, responsible for the administration and implementation of policies at both the state and central levels. Here is an organized overview of the IAS:\\n\\n1. **Definition and Role**:\\n   - IAS stands for Indian Administrative Service, one of the key civil services under the Union Public Service Commission (UPSC).\\n   - IAS officers are involved in policy formulation, public service management, and governance, playing a crucial role in the country's administrative framework.\\n\\n2. **Selection Process**:\\n   - Recruitment is through the UPSC Civil Services Examination, which includes three stages: Preliminary, Main, and Interview.\\n   - The exam is highly competitive, with a broad syllabus covering various subjects, making preparation rigorous.\\n\\n3. **Training**:\\n   - After selection, officers undergo training at institutions like the Lal Bahadur Shastri National Academy of Administration.\\n   - Training includes both academic and field experiences to understand grassroots issues.\\n\\n4. **Career and Responsibilities**:\\n   - IAS officers start as district magistrates or sub-collectors and progress to higher roles such as Secretaries in state or central governments.\\n   - Responsibilities include policy implementation, overseeing development projects, crisis management, and maintaining law and order.\\n\\n5. **Impact and Influence**:\\n   - Officers significantly influence public services, education, healthcare, and infrastructure.\\n   - They hold substantial authority, making decisions that affect millions and contributing to national development.\\n\\n6. **Challenges**:\\n   - The role involves dealing with bureaucracy, political pressures, and public expectations, requiring strong leadership and decision-making skills.\\n\\nIn summary, the IAS is a vital component of India's governance, with officers playing key roles in administration and policy implementation, making it a position of great responsibility and influence.\""
      ]
     },
     "execution_count": 7,
     "metadata": {},
     "output_type": "execute_result"
    }
   ],
   "source": [
    "llm.invoke('what is IAS in india').content"
   ]
  },
  {
   "cell_type": "code",
   "execution_count": 8,
   "id": "fa8dbf4a",
   "metadata": {},
   "outputs": [],
   "source": [
    "from langchain_google_genai import GoogleGenerativeAIEmbeddings"
   ]
  },
  {
   "cell_type": "code",
   "execution_count": 9,
   "id": "358ddf96",
   "metadata": {},
   "outputs": [],
   "source": [
    "embedding_model=GoogleGenerativeAIEmbeddings(model=\"models/embedding-001\")"
   ]
  },
  {
   "cell_type": "code",
   "execution_count": null,
   "id": "18c53e06",
   "metadata": {},
   "outputs": [],
   "source": []
  },
  {
   "cell_type": "markdown",
   "id": "8cb855ab",
   "metadata": {},
   "source": [
    "1. data Ingestion"
   ]
  },
  {
   "cell_type": "markdown",
   "id": "b7d8caa5",
   "metadata": {},
   "source": []
  }
 ],
 "metadata": {
  "kernelspec": {
   "display_name": ".venv",
   "language": "python",
   "name": "python3"
  },
  "language_info": {
   "codemirror_mode": {
    "name": "ipython",
    "version": 3
   },
   "file_extension": ".py",
   "mimetype": "text/x-python",
   "name": "python",
   "nbconvert_exporter": "python",
   "pygments_lexer": "ipython3",
   "version": "3.13.3"
  }
 },
 "nbformat": 4,
 "nbformat_minor": 5
}
